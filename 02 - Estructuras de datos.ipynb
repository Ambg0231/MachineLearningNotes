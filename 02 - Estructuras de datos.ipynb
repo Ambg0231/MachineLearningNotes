{
  "cells": [
    {
      "cell_type": "markdown",
      "metadata": {
        "id": "tXYD0HtaV9xs"
      },
      "source": [
        "<a href=\"https://colab.research.google.com/github/acubillosunal/UBM-MACHINE-LEARNING-1/blob/main/02%20-%20Estructuras%20de%20datos.ipynb\" target=\"_parent\"><img src=\"https://colab.research.google.com/assets/colab-badge.svg\" alt=\"Open In Colab\"/></a>\n",
        "\n",
        "\n",
        "**Recuerda que una vez abierto, Da clic en \"Copiar en Drive\", de lo contrario no podras alamancenar tu progreso**\n",
        "\n",
        "Nota: no olvide ir ejecutando las celdas de código de arriba hacia abajo para que no tenga errores de importación de librerías o por falta de definición de variables."
      ]
    },
    {
      "cell_type": "markdown",
      "metadata": {
        "id": "NYOGm192V9xw"
      },
      "source": [
        "# Estructuras de datos\n",
        "\n",
        "El término estructura de dato se usa para designar una forma de representar datos o valores en un programa. Usualmente hay varias estructuras de datos útiles para resolver un problema, pero hay unas en las que podrá ser más correcto o efficiente.\n",
        "\n",
        "Acá veremos lo más básico, puedes complementar con [Data Structures](https://www.geeksforgeeks.org/data-structures/)"
      ]
    },
    {
      "cell_type": "markdown",
      "metadata": {
        "id": "SwHXzuNeV9xx"
      },
      "source": [
        "---\n",
        "`list` -> se usa para almacenar varios valores distintos (por ejemplo variables) en uno solo; con la posibilidad de agregar, remover y acceder a cada uno de los valores agregados."
      ]
    },
    {
      "cell_type": "code",
      "execution_count": null,
      "metadata": {
        "id": "KAB1eCiyV9xx"
      },
      "outputs": [],
      "source": [
        "students = [\"santiaguito\", \"juliansito\", \"danilito\"]\n",
        "primes_up_to_20 = [2, 3, 5, 7, 11, 13, 17, 19]\n",
        "negative_integers_greater_than_minus_5 = [-5, -4, -2, -1]\n",
        "collection_of_different_types = [None, 3, \"4\", 0.15]\n",
        "empty_list = []"
      ]
    },
    {
      "cell_type": "markdown",
      "metadata": {
        "id": "OMfW7S6AV9xz"
      },
      "source": [
        "Las listas vienen con varios métodos muy útiles para trabajar con ellas, acá unos ejemplos tomados de la [documentación oficial](https://docs.python.org/3/tutorial/datastructures.html#more-on-lists)"
      ]
    },
    {
      "cell_type": "code",
      "execution_count": null,
      "metadata": {
        "id": "mLPl8Cf7V9xz",
        "outputId": "f643a508-7a62-43e0-8136-b0d4283573a2"
      },
      "outputs": [
        {
          "data": {
            "text/plain": [
              "['orange', 'apple', 'pear', 'banana', 'kiwi', 'apple', 'banana']"
            ]
          },
          "execution_count": 11,
          "metadata": {},
          "output_type": "execute_result"
        }
      ],
      "source": [
        "fruits = ['orange', 'apple', 'pear', 'banana', 'kiwi', 'apple', 'banana']\n",
        "fruits"
      ]
    },
    {
      "cell_type": "code",
      "execution_count": null,
      "metadata": {
        "id": "IIEUlJ9_V9x0",
        "outputId": "01da6db4-4ae4-4a83-8c95-97e2d6928b26"
      },
      "outputs": [
        {
          "data": {
            "text/plain": [
              "2"
            ]
          },
          "execution_count": 10,
          "metadata": {},
          "output_type": "execute_result"
        }
      ],
      "source": [
        "fruits.count('apple')"
      ]
    },
    {
      "cell_type": "code",
      "execution_count": null,
      "metadata": {
        "id": "_LjbVmktV9x1",
        "outputId": "ab013e08-1258-4424-c5fb-c45ef1265036"
      },
      "outputs": [
        {
          "data": {
            "text/plain": [
              "0"
            ]
          },
          "execution_count": 2,
          "metadata": {},
          "output_type": "execute_result"
        }
      ],
      "source": [
        "fruits.count('tangerine')"
      ]
    },
    {
      "cell_type": "code",
      "execution_count": null,
      "metadata": {
        "id": "8K9973F3V9x2",
        "outputId": "c0074a30-d958-4720-c126-4ebe1eaa4698"
      },
      "outputs": [
        {
          "data": {
            "text/plain": [
              "3"
            ]
          },
          "execution_count": 3,
          "metadata": {},
          "output_type": "execute_result"
        }
      ],
      "source": [
        "fruits.index('banana')"
      ]
    },
    {
      "cell_type": "code",
      "execution_count": null,
      "metadata": {
        "id": "388CQUibV9x3",
        "outputId": "f8b74ad1-7166-4a18-b345-7c0b4b4c88c5"
      },
      "outputs": [
        {
          "data": {
            "text/plain": [
              "6"
            ]
          },
          "execution_count": 4,
          "metadata": {},
          "output_type": "execute_result"
        }
      ],
      "source": [
        "fruits.index('banana', 4)  # Find next banana starting at position 4"
      ]
    },
    {
      "cell_type": "code",
      "execution_count": null,
      "metadata": {
        "id": "oeit83d1V9x3",
        "outputId": "15b779bb-a14c-4fe1-af15-c2f3655ce5b9"
      },
      "outputs": [
        {
          "data": {
            "text/plain": [
              "['banana', 'apple', 'kiwi', 'banana', 'pear', 'apple', 'orange']"
            ]
          },
          "execution_count": 5,
          "metadata": {},
          "output_type": "execute_result"
        }
      ],
      "source": [
        "fruits.reverse()\n",
        "fruits"
      ]
    },
    {
      "cell_type": "code",
      "execution_count": null,
      "metadata": {
        "id": "r_fQ0V65V9x4",
        "outputId": "1985e737-225c-4c35-ff40-bcc6acd360ff"
      },
      "outputs": [
        {
          "data": {
            "text/plain": [
              "['banana', 'apple', 'kiwi', 'banana', 'pear', 'apple', 'orange', 'grape']"
            ]
          },
          "execution_count": 6,
          "metadata": {},
          "output_type": "execute_result"
        }
      ],
      "source": [
        "fruits.append('grape')\n",
        "fruits"
      ]
    },
    {
      "cell_type": "code",
      "execution_count": null,
      "metadata": {
        "id": "Pj5iNhqMV9x4",
        "outputId": "0775202b-ba86-413a-a876-be6cc2563496"
      },
      "outputs": [
        {
          "data": {
            "text/plain": [
              "['apple', 'apple', 'banana', 'banana', 'grape', 'kiwi', 'orange', 'pear']"
            ]
          },
          "execution_count": 7,
          "metadata": {},
          "output_type": "execute_result"
        }
      ],
      "source": [
        "fruits.sort()\n",
        "fruits"
      ]
    },
    {
      "cell_type": "code",
      "execution_count": null,
      "metadata": {
        "id": "92RKlOWeV9x4",
        "outputId": "d29f4441-9f6b-444c-d184-e7e89e5337e7"
      },
      "outputs": [
        {
          "data": {
            "text/plain": [
              "'pear'"
            ]
          },
          "execution_count": 8,
          "metadata": {},
          "output_type": "execute_result"
        }
      ],
      "source": [
        "fruits.pop()"
      ]
    },
    {
      "cell_type": "code",
      "execution_count": null,
      "metadata": {
        "id": "Zvt06MwMV9x5",
        "outputId": "9f54978d-7c9d-48aa-dc2e-309a367d5e58"
      },
      "outputs": [
        {
          "data": {
            "text/plain": [
              "['apple', 'apple', 'banana', 'banana', 'grape', 'kiwi', 'orange']"
            ]
          },
          "execution_count": 9,
          "metadata": {},
          "output_type": "execute_result"
        }
      ],
      "source": [
        "fruits"
      ]
    },
    {
      "cell_type": "code",
      "execution_count": null,
      "metadata": {
        "id": "buinLknaV9x5",
        "outputId": "0692a94a-d2cc-49e4-81c0-388e52ae5c14"
      },
      "outputs": [
        {
          "data": {
            "text/plain": [
              "['orange', 'apple', 456, 'banana', 'kiwi', 'apple', 'banana']"
            ]
          },
          "execution_count": 12,
          "metadata": {},
          "output_type": "execute_result"
        }
      ],
      "source": [
        "fruits[2] = 456\n",
        "fruits"
      ]
    },
    {
      "cell_type": "markdown",
      "metadata": {
        "id": "i1ZuaVWGV9x5"
      },
      "source": [
        "---\n",
        "`tuple` -> casi igual que las listas, pero no se pueden modificar"
      ]
    },
    {
      "cell_type": "code",
      "execution_count": null,
      "metadata": {
        "id": "bywZw9CBV9x5"
      },
      "outputs": [],
      "source": [
        "fruits = ('orange', 'apple', 'banana')"
      ]
    },
    {
      "cell_type": "code",
      "execution_count": null,
      "metadata": {
        "id": "s4LcsKmuV9x5",
        "outputId": "b1c5ccb8-535c-4714-d748-6d853f8d096f"
      },
      "outputs": [
        {
          "ename": "TypeError",
          "evalue": "'tuple' object does not support item assignment",
          "output_type": "error",
          "traceback": [
            "\u001b[0;31m---------------------------------------------------------------------------\u001b[0m",
            "\u001b[0;31mTypeError\u001b[0m                                 Traceback (most recent call last)",
            "\u001b[0;32m<ipython-input-14-52c3fddaeb41>\u001b[0m in \u001b[0;36m<module>\u001b[0;34m\u001b[0m\n\u001b[0;32m----> 1\u001b[0;31m \u001b[0mfruits\u001b[0m\u001b[0;34m[\u001b[0m\u001b[0;36m0\u001b[0m\u001b[0;34m]\u001b[0m \u001b[0;34m=\u001b[0m \u001b[0;36m3\u001b[0m\u001b[0;34m\u001b[0m\u001b[0;34m\u001b[0m\u001b[0m\n\u001b[0m",
            "\u001b[0;31mTypeError\u001b[0m: 'tuple' object does not support item assignment"
          ]
        }
      ],
      "source": [
        "fruits[0] = 3"
      ]
    },
    {
      "cell_type": "markdown",
      "metadata": {
        "id": "lmjyiHzBV9x6"
      },
      "source": [
        "Lea más en la [documentación oficial](https://docs.python.org/3/library/stdtypes.html#tuples)\n",
        "\n",
        "---\n",
        "`set` -> se usa para representar un conjunto; permite fácilmente preguntar si un elemento es parte del conjunto y otras operaciones propias de conjuntos.\n",
        "\n",
        "Ahora más ejemplos tomados de la [documentación oficial](https://docs.python.org/3/tutorial/datastructures.html#sets)"
      ]
    },
    {
      "cell_type": "code",
      "execution_count": null,
      "metadata": {
        "id": "BLbzk7XAV9x6",
        "outputId": "63c17ffc-0740-447d-aaf7-715801d82634"
      },
      "outputs": [
        {
          "data": {
            "text/plain": [
              "{'apple', 'banana', 'orange', 'pear'}"
            ]
          },
          "execution_count": 16,
          "metadata": {},
          "output_type": "execute_result"
        }
      ],
      "source": [
        "basket = {'apple', 'orange', 'apple', 'pear', 'orange', 'banana'}\n",
        "basket"
      ]
    },
    {
      "cell_type": "code",
      "execution_count": null,
      "metadata": {
        "id": "2Apyz1paV9x6",
        "outputId": "67cc20e4-037d-468e-d1b5-b78af52381fb"
      },
      "outputs": [
        {
          "data": {
            "text/plain": [
              "True"
            ]
          },
          "execution_count": 17,
          "metadata": {},
          "output_type": "execute_result"
        }
      ],
      "source": [
        "'orange' in basket"
      ]
    },
    {
      "cell_type": "code",
      "execution_count": null,
      "metadata": {
        "id": "zStw9oPoV9x6",
        "outputId": "a885d143-a024-4a89-eab3-d7d74794b475"
      },
      "outputs": [
        {
          "data": {
            "text/plain": [
              "False"
            ]
          },
          "execution_count": 18,
          "metadata": {},
          "output_type": "execute_result"
        }
      ],
      "source": [
        "'crabgrass' in basket"
      ]
    },
    {
      "cell_type": "code",
      "execution_count": null,
      "metadata": {
        "id": "Ij-znXQ5V9x7",
        "outputId": "380a4e96-ffd2-4c23-8e5f-88724a6b9244"
      },
      "outputs": [
        {
          "data": {
            "text/plain": [
              "{345, 'apple', 'banana', 'orange', 'pear'}"
            ]
          },
          "execution_count": 20,
          "metadata": {},
          "output_type": "execute_result"
        }
      ],
      "source": [
        "basket.add(345)\n",
        "basket"
      ]
    },
    {
      "cell_type": "code",
      "execution_count": null,
      "metadata": {
        "id": "o_LpYD2AV9x7",
        "outputId": "9f8abc15-dfaa-4479-f49a-e5f4f39d9d7f"
      },
      "outputs": [
        {
          "data": {
            "text/plain": [
              "{345, 'apple', 'banana', 'orange', 'pear'}"
            ]
          },
          "execution_count": 23,
          "metadata": {},
          "output_type": "execute_result"
        }
      ],
      "source": [
        "basket.add(\"banana\")\n",
        "basket"
      ]
    },
    {
      "cell_type": "code",
      "execution_count": null,
      "metadata": {
        "id": "YppWZZivV9x7",
        "outputId": "3ecb2635-e481-4003-dbf4-5a6cca9e51ed"
      },
      "outputs": [
        {
          "ename": "TypeError",
          "evalue": "unhashable type: 'list'",
          "output_type": "error",
          "traceback": [
            "\u001b[0;31m---------------------------------------------------------------------------\u001b[0m",
            "\u001b[0;31mTypeError\u001b[0m                                 Traceback (most recent call last)",
            "\u001b[0;32m<ipython-input-21-a4d3af67f5d4>\u001b[0m in \u001b[0;36m<module>\u001b[0;34m\u001b[0m\n\u001b[0;32m----> 1\u001b[0;31m \u001b[0mbasket\u001b[0m\u001b[0;34m.\u001b[0m\u001b[0madd\u001b[0m\u001b[0;34m(\u001b[0m\u001b[0;34m[\u001b[0m\u001b[0;34m\"una\"\u001b[0m\u001b[0;34m,\u001b[0m \u001b[0;34m\"lista\"\u001b[0m\u001b[0;34m]\u001b[0m\u001b[0;34m)\u001b[0m\u001b[0;34m\u001b[0m\u001b[0;34m\u001b[0m\u001b[0m\n\u001b[0m",
            "\u001b[0;31mTypeError\u001b[0m: unhashable type: 'list'"
          ]
        }
      ],
      "source": [
        "basket.add([\"una\", \"lista\"])"
      ]
    },
    {
      "cell_type": "code",
      "execution_count": null,
      "metadata": {
        "id": "83VwyC2hV9x7",
        "outputId": "9247d716-11cf-4d57-f02e-380848cffb1d"
      },
      "outputs": [
        {
          "data": {
            "text/plain": [
              "({'a', 'b', 'c', 'd', 'r'}, {'a', 'c', 'l', 'm', 'z'})"
            ]
          },
          "execution_count": 22,
          "metadata": {},
          "output_type": "execute_result"
        }
      ],
      "source": [
        "a = set('abracadabra')\n",
        "b = set('alacazam')\n",
        "a, b"
      ]
    },
    {
      "cell_type": "code",
      "execution_count": null,
      "metadata": {
        "id": "KrSHb61YV9x7",
        "outputId": "a2f230ef-6af8-4c83-c38f-a39bd732c60c"
      },
      "outputs": [
        {
          "data": {
            "text/plain": [
              "False"
            ]
          },
          "execution_count": 24,
          "metadata": {},
          "output_type": "execute_result"
        }
      ],
      "source": [
        "a.isdisjoint(b)"
      ]
    },
    {
      "cell_type": "code",
      "execution_count": null,
      "metadata": {
        "id": "gpe6TalAV9x8",
        "outputId": "68d7f76f-f91b-44c6-f3fa-085449c0b325"
      },
      "outputs": [
        {
          "data": {
            "text/plain": [
              "False"
            ]
          },
          "execution_count": 25,
          "metadata": {},
          "output_type": "execute_result"
        }
      ],
      "source": [
        "a.issubset(b)"
      ]
    },
    {
      "cell_type": "code",
      "execution_count": null,
      "metadata": {
        "id": "IViNYWtbV9x8",
        "outputId": "c9162dfe-992d-4ae0-ec6f-075e92040103"
      },
      "outputs": [
        {
          "data": {
            "text/plain": [
              "{'a', 'b', 'c', 'd', 'l', 'm', 'r', 'z'}"
            ]
          },
          "execution_count": 26,
          "metadata": {},
          "output_type": "execute_result"
        }
      ],
      "source": [
        "a.union(b)"
      ]
    },
    {
      "cell_type": "code",
      "execution_count": null,
      "metadata": {
        "id": "riUl-EObV9x8",
        "outputId": "fbd1b171-8a23-43d5-866a-0e57dcd4de3b"
      },
      "outputs": [
        {
          "data": {
            "text/plain": [
              "{'a', 'c'}"
            ]
          },
          "execution_count": 27,
          "metadata": {},
          "output_type": "execute_result"
        }
      ],
      "source": [
        "a.intersection(b)"
      ]
    },
    {
      "cell_type": "code",
      "execution_count": null,
      "metadata": {
        "id": "y5DQU-_aV9x8",
        "outputId": "58354d30-2645-44c0-b8cb-a2f4a59a9c92"
      },
      "outputs": [
        {
          "data": {
            "text/plain": [
              "{'b', 'd', 'r'}"
            ]
          },
          "execution_count": 28,
          "metadata": {},
          "output_type": "execute_result"
        }
      ],
      "source": [
        "a.difference(b)"
      ]
    },
    {
      "cell_type": "markdown",
      "metadata": {
        "id": "Qy_WBeyjV9x8"
      },
      "source": [
        "Recuerda que siempre puedes aprender más por tu cuenta revisando la [documentación oficial](https://docs.python.org/3/library/stdtypes.html#set-types-set-frozenset)\n",
        "\n",
        "---\n",
        "`dict` -> su uso es tal cual como el de un diccionario de idiomas, se usa para mapear un objeto (por ejemplo, palabra) a otro (por ejemplo, frase con el significado).\n",
        "\n",
        "Puedes leer una descripción más aplia en [otro lado](https://docs.python.org/3/tutorial/datastructures.html#dictionaries) (la documentación oficial)"
      ]
    },
    {
      "cell_type": "code",
      "execution_count": null,
      "metadata": {
        "id": "RC0oIuATV9x9",
        "outputId": "8cb7fd5c-902e-4665-ef88-705869b91de2"
      },
      "outputs": [
        {
          "data": {
            "text/plain": [
              "{'jack': 4098, 'sape': 4139}"
            ]
          },
          "execution_count": 34,
          "metadata": {},
          "output_type": "execute_result"
        }
      ],
      "source": [
        "tel = {'jack': 4098, 'sape': 4139}\n",
        "tel"
      ]
    },
    {
      "cell_type": "code",
      "execution_count": null,
      "metadata": {
        "id": "KlUavUyYV9x9",
        "outputId": "98d947b9-b635-4c63-f7f8-d88cec3e51ec"
      },
      "outputs": [
        {
          "data": {
            "text/plain": [
              "{'jack': 4098, 'sape': 4139, 'guido': 4127}"
            ]
          },
          "execution_count": 35,
          "metadata": {},
          "output_type": "execute_result"
        }
      ],
      "source": [
        "tel['guido'] = 4127\n",
        "tel"
      ]
    },
    {
      "cell_type": "code",
      "execution_count": null,
      "metadata": {
        "id": "bxloA-VUV9x9",
        "outputId": "536996ee-7a77-45d8-d958-788952205b2b"
      },
      "outputs": [
        {
          "data": {
            "text/plain": [
              "4098"
            ]
          },
          "execution_count": 36,
          "metadata": {},
          "output_type": "execute_result"
        }
      ],
      "source": [
        "tel['jack']"
      ]
    },
    {
      "cell_type": "code",
      "execution_count": null,
      "metadata": {
        "id": "groFF58BV9x9",
        "outputId": "d1d6f468-0f83-428f-f859-ae1db3249f49"
      },
      "outputs": [
        {
          "data": {
            "text/plain": [
              "{'jack': 4098, 'guido': 4127}"
            ]
          },
          "execution_count": 37,
          "metadata": {},
          "output_type": "execute_result"
        }
      ],
      "source": [
        "del tel['sape']\n",
        "tel"
      ]
    },
    {
      "cell_type": "code",
      "execution_count": null,
      "metadata": {
        "id": "a9EYfwKaV9x9",
        "outputId": "58827056-13df-407a-8d39-7e7aae4206c6"
      },
      "outputs": [
        {
          "data": {
            "text/plain": [
              "True"
            ]
          },
          "execution_count": 38,
          "metadata": {},
          "output_type": "execute_result"
        }
      ],
      "source": [
        "'guido' in tel"
      ]
    },
    {
      "cell_type": "markdown",
      "metadata": {
        "id": "g3H2C1QdV9x-"
      },
      "source": [
        "Como todos los demás, también cuentan con [métodos útiles](https://docs.python.org/3/library/stdtypes.html#mapping-types-dict)"
      ]
    }
  ],
  "metadata": {
    "kernelspec": {
      "display_name": "base",
      "language": "python",
      "name": "python3"
    },
    "language_info": {
      "codemirror_mode": {
        "name": "ipython",
        "version": 3
      },
      "file_extension": ".py",
      "mimetype": "text/x-python",
      "name": "python",
      "nbconvert_exporter": "python",
      "pygments_lexer": "ipython3",
      "version": "3.9.12"
    },
    "vscode": {
      "interpreter": {
        "hash": "4a86262a84c89eb5e2f9fa7ccca1fd520c0f88913a624a47ee78e08ae14b068c"
      }
    },
    "colab": {
      "provenance": []
    }
  },
  "nbformat": 4,
  "nbformat_minor": 0
}