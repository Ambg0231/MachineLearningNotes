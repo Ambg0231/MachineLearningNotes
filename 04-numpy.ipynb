{
  "cells": [
    {
      "cell_type": "markdown",
      "metadata": {
        "id": "_HUpHO5kg-e6"
      },
      "source": [
        "<a href=\"https://colab.research.google.com/github/acubillosunal/UBM-MACHINE-LEARNING-1/blob/main/04-numpy.ipynb\" target=\"_parent\"><img src=\"https://colab.research.google.com/assets/colab-badge.svg\" alt=\"Open In Colab\"/></a>\n",
        "\n",
        "\n",
        "**Recuerda que una vez abierto, Da clic en \"Copiar en Drive\", de lo contrario no podras alamancenar tu progreso**\n",
        "\n",
        "Nota: no olvide ir ejecutando las celdas de código de arriba hacia abajo para que no tenga errores de importación de librerías o por falta de definición de variables."
      ]
    },
    {
      "cell_type": "markdown",
      "metadata": {
        "id": "1v_WVv3Rg-fA"
      },
      "source": [
        "# **Numpy**\n",
        "\n",
        "Esta biblioteca, cuyo nombre significa numerical Python, constituye el núcleo de muchas otras bibliotecas de Python que se han originado a partir de ella. De hecho, NumPy es la biblioteca básica para la computación científica en Python, ya que proporciona estructuras de datos y funciones de alto rendimiento que el paquete básico de Python no proporciona.\n",
        "\n",
        "NumPy es una biblioteca para el lenguaje de programación Python que da soporte para crear vectores y matrices grandes multidimensionales, junto con una gran colección de funciones matemáticas de alto nivel para operar con ellas."
      ]
    },
    {
      "cell_type": "markdown",
      "metadata": {
        "id": "-f7IlF4ng-fB"
      },
      "source": [
        "## Importar la libreria NumPy"
      ]
    },
    {
      "cell_type": "code",
      "execution_count": null,
      "metadata": {
        "id": "LHbDiybmg-fD"
      },
      "outputs": [],
      "source": [
        "import numpy as np"
      ]
    },
    {
      "cell_type": "code",
      "execution_count": null,
      "metadata": {
        "id": "celdiLyEg-fE"
      },
      "outputs": [],
      "source": [
        "x = np.array([1,2,3])"
      ]
    },
    {
      "cell_type": "code",
      "execution_count": null,
      "metadata": {
        "id": "4H7gzLT0g-fF",
        "outputId": "942dacd1-41d1-4794-e588-ff41c8267979"
      },
      "outputs": [
        {
          "data": {
            "text/plain": [
              "array([0.84147098, 0.90929743, 0.14112001])"
            ]
          },
          "execution_count": 8,
          "metadata": {},
          "output_type": "execute_result"
        }
      ],
      "source": [
        "np.sin(x)"
      ]
    },
    {
      "cell_type": "code",
      "execution_count": null,
      "metadata": {
        "id": "QsgNCwLNg-fH",
        "outputId": "ccd31506-56c4-4b61-9f27-d4552903ce69"
      },
      "outputs": [
        {
          "data": {
            "text/plain": [
              "[0.8414709848078965, 0.9092974268256817, 0.1411200080598672]"
            ]
          },
          "execution_count": 9,
          "metadata": {},
          "output_type": "execute_result"
        }
      ],
      "source": [
        "from math import sin\n",
        "\n",
        "seno = []\n",
        "for i in [1,2,3]:\n",
        "    seno.append(sin(i))\n",
        "seno\n"
      ]
    },
    {
      "cell_type": "code",
      "execution_count": null,
      "metadata": {
        "id": "DFiJoJsNg-fI"
      },
      "outputs": [],
      "source": [
        "x = np.array([[1,2,3], [4,5,6]])"
      ]
    },
    {
      "cell_type": "code",
      "execution_count": null,
      "metadata": {
        "id": "dhmoVVKXg-fI"
      },
      "outputs": [],
      "source": [
        "y = np.array([[1,2,3,4], [5,6,7,8],[9,10,11,12]])"
      ]
    },
    {
      "cell_type": "markdown",
      "metadata": {
        "id": "yfNfh3Iog-fJ"
      },
      "source": [
        "## **Creación intrinseca de arreglos**\n",
        "\n",
        "La biblioteca NumPy proporciona un conjunto de funciones que generan ndarrays con contenido inicial, creados con diferentes valores según la función.\n",
        "\n"
      ]
    },
    {
      "cell_type": "code",
      "execution_count": null,
      "metadata": {
        "id": "njfYTDYhg-fJ"
      },
      "outputs": [],
      "source": [
        "np.zeros((3,3))"
      ]
    },
    {
      "cell_type": "code",
      "execution_count": null,
      "metadata": {
        "id": "lke52Clcg-fJ"
      },
      "outputs": [],
      "source": [
        "np.ones((3,3))"
      ]
    },
    {
      "cell_type": "code",
      "execution_count": null,
      "metadata": {
        "id": "dpKYONQbg-fJ"
      },
      "outputs": [],
      "source": [
        "np.arange(0,10)"
      ]
    },
    {
      "cell_type": "code",
      "execution_count": null,
      "metadata": {
        "id": "md0eF1Kfg-fK"
      },
      "outputs": [],
      "source": [
        "np.arange(4,10)"
      ]
    },
    {
      "cell_type": "code",
      "execution_count": null,
      "metadata": {
        "id": "EDyGuCrAg-fK"
      },
      "outputs": [],
      "source": [
        "np.arange(0,12,3)"
      ]
    },
    {
      "cell_type": "markdown",
      "metadata": {
        "id": "dfZX3XlTg-fK"
      },
      "source": [
        "## **Operaciones básicas**"
      ]
    },
    {
      "cell_type": "code",
      "execution_count": null,
      "metadata": {
        "id": "5lFI7aozg-fK"
      },
      "outputs": [],
      "source": [
        "a = np.arange(0,4)"
      ]
    },
    {
      "cell_type": "markdown",
      "metadata": {
        "id": "iQyQ3bpDg-fL"
      },
      "source": [
        "## **Matrices vs Arrreglos**"
      ]
    },
    {
      "cell_type": "code",
      "execution_count": null,
      "metadata": {
        "id": "Jzf40zCgg-fL"
      },
      "outputs": [],
      "source": []
    },
    {
      "cell_type": "markdown",
      "metadata": {
        "id": "qwY2Q3LSg-fL"
      },
      "source": [
        "\n",
        "## **Funciones universales**"
      ]
    },
    {
      "cell_type": "code",
      "execution_count": null,
      "metadata": {
        "id": "SV7fiag9g-fL"
      },
      "outputs": [],
      "source": [
        "a = np.arange(1,6)\n"
      ]
    },
    {
      "cell_type": "code",
      "execution_count": null,
      "metadata": {
        "id": "93N_eptOg-fL"
      },
      "outputs": [],
      "source": [
        "np.sqrt(a)"
      ]
    },
    {
      "cell_type": "code",
      "execution_count": null,
      "metadata": {
        "id": "--N15rq4g-fL"
      },
      "outputs": [],
      "source": [
        "np.log(a)"
      ]
    },
    {
      "cell_type": "code",
      "execution_count": null,
      "metadata": {
        "id": "7uPdd-0Fg-fL"
      },
      "outputs": [],
      "source": [
        "np.cos(a)"
      ]
    },
    {
      "cell_type": "markdown",
      "metadata": {
        "id": "RD5GDFnFg-fM"
      },
      "source": [
        "## **Agregar funciones**"
      ]
    },
    {
      "cell_type": "code",
      "execution_count": null,
      "metadata": {
        "id": "uJTJUsNAg-fM"
      },
      "outputs": [],
      "source": [
        "a = 5*np.random.random(5)+1"
      ]
    },
    {
      "cell_type": "markdown",
      "metadata": {
        "id": "SGfsU9eBg-fM"
      },
      "source": [
        "## **Indexando**"
      ]
    },
    {
      "cell_type": "code",
      "execution_count": null,
      "metadata": {
        "id": "NA2CJsfCg-fM"
      },
      "outputs": [],
      "source": [
        "a = np.arange(10, 16)"
      ]
    },
    {
      "cell_type": "code",
      "execution_count": null,
      "metadata": {
        "id": "Lr2SarUXg-fN"
      },
      "outputs": [],
      "source": [
        "A = np.arange(10,19).reshape((3,3))"
      ]
    },
    {
      "cell_type": "code",
      "execution_count": null,
      "metadata": {
        "id": "Nok3HYW2g-fN"
      },
      "outputs": [],
      "source": [
        "A[1,2]"
      ]
    },
    {
      "cell_type": "markdown",
      "metadata": {
        "id": "jVmEruwIg-fN"
      },
      "source": [
        "## **Slicing**\n"
      ]
    },
    {
      "cell_type": "code",
      "execution_count": null,
      "metadata": {
        "id": "cO2Bh5uog-fN"
      },
      "outputs": [],
      "source": [
        "a = np.arange(10,16)"
      ]
    },
    {
      "cell_type": "code",
      "execution_count": null,
      "metadata": {
        "id": "qjynnL5vg-fO"
      },
      "outputs": [],
      "source": [
        "a[1:4]"
      ]
    },
    {
      "cell_type": "code",
      "execution_count": null,
      "metadata": {
        "id": "Fo2QpHS1g-fO"
      },
      "outputs": [],
      "source": [
        "a[1:5:2]"
      ]
    },
    {
      "cell_type": "code",
      "execution_count": null,
      "metadata": {
        "id": "-FjGUUDRg-fO"
      },
      "outputs": [],
      "source": [
        "a[::2]"
      ]
    },
    {
      "cell_type": "code",
      "execution_count": null,
      "metadata": {
        "id": "Qj0VsgVzg-fP",
        "outputId": "4a82a5bd-d6cb-49da-f949-3fdc216948ec"
      },
      "outputs": [
        {
          "data": {
            "text/plain": [
              "array([10, 12, 14])"
            ]
          },
          "execution_count": 47,
          "metadata": {},
          "output_type": "execute_result"
        }
      ],
      "source": [
        "a[:5:2]"
      ]
    },
    {
      "cell_type": "code",
      "execution_count": null,
      "metadata": {
        "id": "oRKxXcKng-fP",
        "outputId": "509c7f0c-5481-4ad3-9142-d30188b63bcb"
      },
      "outputs": [
        {
          "data": {
            "text/plain": [
              "array([10, 11, 12, 13, 14])"
            ]
          },
          "execution_count": 48,
          "metadata": {},
          "output_type": "execute_result"
        }
      ],
      "source": [
        "a[:5:]"
      ]
    },
    {
      "cell_type": "code",
      "execution_count": null,
      "metadata": {
        "id": "oMncyIqwg-fP"
      },
      "outputs": [],
      "source": [
        "b = np.arange(10,31)"
      ]
    },
    {
      "cell_type": "code",
      "execution_count": null,
      "metadata": {
        "id": "IhAqy-n7g-fP",
        "outputId": "220dfa8f-d7f8-463a-f831-809fa0600337"
      },
      "outputs": [
        {
          "data": {
            "text/plain": [
              "array([[10, 11, 12],\n",
              "       [13, 14, 15],\n",
              "       [16, 17, 18]])"
            ]
          },
          "execution_count": 52,
          "metadata": {},
          "output_type": "execute_result"
        }
      ],
      "source": [
        "A = np.arange(10,19).reshape((3,3))"
      ]
    },
    {
      "cell_type": "markdown",
      "metadata": {
        "id": "PfPy5XrJg-fV"
      },
      "source": [
        "## **Condicionales y arreglos Booleanos**"
      ]
    },
    {
      "cell_type": "code",
      "execution_count": null,
      "metadata": {
        "id": "sFDSwzNRg-fW"
      },
      "outputs": [],
      "source": [
        "A = np.random.random((4,4))"
      ]
    },
    {
      "cell_type": "markdown",
      "metadata": {
        "id": "pJRcaLmkg-fW"
      },
      "source": [
        "# **Referencias**\n",
        "\n",
        "[1]. https://es.wikipedia.org/wiki/NumPy\n",
        "\n",
        "[2]. Unpingo J. Python for Probability, Statistics and Machine Learning. Second Edition. Ed.\n",
        "Springer.\n",
        "\n",
        "[3]. Nelli F. Python Data Analytics. With Pandas, NumPy and Matplotlib. Second Ed."
      ]
    }
  ],
  "metadata": {
    "kernelspec": {
      "display_name": "base",
      "language": "python",
      "name": "python3"
    },
    "language_info": {
      "codemirror_mode": {
        "name": "ipython",
        "version": 3
      },
      "file_extension": ".py",
      "mimetype": "text/x-python",
      "name": "python",
      "nbconvert_exporter": "python",
      "pygments_lexer": "ipython3",
      "version": "3.9.12 (main, Apr  5 2022, 06:56:58) \n[GCC 7.5.0]"
    },
    "metadata": {
      "interpreter": {
        "hash": "48b2dac2427e5c4bd2b5479f4e612135ec3351219f6a8504495dceeac711d204"
      }
    },
    "orig_nbformat": 2,
    "vscode": {
      "interpreter": {
        "hash": "4a86262a84c89eb5e2f9fa7ccca1fd520c0f88913a624a47ee78e08ae14b068c"
      }
    },
    "colab": {
      "provenance": []
    }
  },
  "nbformat": 4,
  "nbformat_minor": 0
}