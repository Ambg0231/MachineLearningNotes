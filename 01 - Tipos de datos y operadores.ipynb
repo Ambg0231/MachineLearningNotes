{
  "cells": [
    {
      "cell_type": "markdown",
      "metadata": {
        "id": "A1qcb7HkqKM-"
      },
      "source": [
        "<a href=\"https://colab.research.google.com/github/acubillosunal/UBM-MACHINE-LEARNING-1/blob/main/01%20-%20Tipos%20de%20datos%20y%20operadores.ipynb\" target=\"_parent\"><img src=\"https://colab.research.google.com/assets/colab-badge.svg\" alt=\"Open In Colab\"/></a>\n",
        "\n",
        "\n",
        "**Recuerda que una vez abierto, Da clic en \"Copiar en Drive\", de lo contrario no podras alamancenar tu progreso**\n",
        "\n",
        "Nota: no olvide ir ejecutando las celdas de código de arriba hacia abajo para que no tenga errores de importación de librerías o por falta de definición de variables."
      ]
    },
    {
      "cell_type": "markdown",
      "metadata": {
        "id": "OB_MQRoGqKNC"
      },
      "source": [
        "# Tipos de datos y operadores\n",
        "\n",
        "## Tipos de datos\n",
        "\n",
        "Se usan para representar valores que usamos en nuestros cálculos y procedimientos.\n",
        "\n",
        "`int` -> se usa para representar enteros"
      ]
    },
    {
      "cell_type": "code",
      "execution_count": null,
      "metadata": {
        "id": "VwScZY_TqKNC"
      },
      "outputs": [],
      "source": [
        "num_images = 20\n",
        "num_students = 26\n",
        "num_variables = 33\n",
        "dataset_size = 98234\n",
        "amount_of_money = -70"
      ]
    },
    {
      "cell_type": "markdown",
      "metadata": {
        "id": "71Wk66-oqKND"
      },
      "source": [
        "---\n",
        "`float` -> se usa para representar números con decimales"
      ]
    },
    {
      "cell_type": "code",
      "execution_count": null,
      "metadata": {
        "id": "CQbughMLqKNE"
      },
      "outputs": [],
      "source": [
        "pi = 3.1416\n",
        "learning_rate = 0.0001\n",
        "scale_factor = 1.2\n",
        "probability_of_approval = 0.5\n",
        "probability_of_approval_after_studing = 0.9\n",
        "probability_of_approval_after_studing_harder = 0.99"
      ]
    },
    {
      "cell_type": "markdown",
      "metadata": {
        "id": "8rwAblhXqKNE"
      },
      "source": [
        "Escribiendo esto caí en la cuenta de que los flotantes tienen un *método* para obtener el numerador y denominador de su representación:"
      ]
    },
    {
      "cell_type": "code",
      "execution_count": null,
      "metadata": {
        "id": "Om7KUpHnqKNE",
        "outputId": "6f08007b-6dc6-49a8-980f-cdd4b7b5913a"
      },
      "outputs": [
        {
          "data": {
            "text/plain": [
              "(1, 2)"
            ]
          },
          "execution_count": 3,
          "metadata": {},
          "output_type": "execute_result"
        }
      ],
      "source": [
        "a = 0.5\n",
        "a.as_integer_ratio()"
      ]
    },
    {
      "cell_type": "markdown",
      "metadata": {
        "id": "qany5ZLBqKNF"
      },
      "source": [
        "Por ahora, postergaremos la discusión sobre lo que es un método, pero usaremos algunos útiles mientras tanto."
      ]
    },
    {
      "cell_type": "markdown",
      "metadata": {
        "id": "PHjQ_YE5qKNG"
      },
      "source": [
        "---\n",
        "`bool` -> se usa para representar valores de falso y verdadero"
      ]
    },
    {
      "cell_type": "code",
      "execution_count": null,
      "metadata": {
        "id": "ZrtfoqQ1qKNG"
      },
      "outputs": [],
      "source": [
        "life_is_hard = True\n",
        "you_must_pause_and_think = True\n",
        "follow_your_instinct = False\n",
        "follow_data = True\n",
        "you_already_know_everything = False\n",
        "you_must_keep_learning = True\n",
        "money_is_all_that_matters = False\n",
        "helping_is_showing_answers = False\n",
        "you_can_pass_without_projects = False\n",
        "you_can_pass_without_comming_to_class = True"
      ]
    },
    {
      "cell_type": "markdown",
      "metadata": {
        "id": "lqbsF2iHqKNG"
      },
      "source": [
        "---\n",
        "`str` -> se usa para representar texto"
      ]
    },
    {
      "cell_type": "code",
      "execution_count": null,
      "metadata": {
        "id": "UvUOXT_MqKNG"
      },
      "outputs": [],
      "source": [
        "name = \"Alfonso\"\n",
        "last_name = \"Cubillos Delgado\"\n",
        "activation = \"relu\"\n",
        "name_of_course = \"Fundamentos de programación para ciencia de datos\""
      ]
    },
    {
      "cell_type": "markdown",
      "metadata": {
        "id": "S1lJZ7PiqKNG"
      },
      "source": [
        "Python utiliza codificación `utf-8` por defecto, lo cual permite representar muchos caracteres (como letras con tildes). No todos los sistemas utilizan el mismo tipo de codificación y vale la pena que tengas esto presente. Te sugiero leer [Unicode & Character Encodings in Python: A Painless Guide](https://realpython.com/python-encodings-guide/), [Python String encode()](https://www.programiz.com/python-programming/methods/string/encode#:~:text=The%20string%20encode()%20method,sequence%20of%20Unicode%20code%20points.) y [Unicode HOWTO](https://docs.python.org/3/howto/unicode.html).\n",
        "\n",
        "Los tipos `str` vienen con unos métodos bastante útiles para trabajar con ellos, acá unos ejemplos:"
      ]
    },
    {
      "cell_type": "code",
      "execution_count": null,
      "metadata": {
        "id": "EzOwOcQjqKNH",
        "outputId": "900975b9-1bc7-47ff-9dc3-bbe8f53f0dde"
      },
      "outputs": [
        {
          "data": {
            "text/plain": [
              "'SABER PROGRAMAR EN PYTHON ES MUY IMPORTANTE!'"
            ]
          },
          "execution_count": 6,
          "metadata": {},
          "output_type": "execute_result"
        }
      ],
      "source": [
        "\"saber programar en python es muy importante!\".upper()"
      ]
    },
    {
      "cell_type": "code",
      "execution_count": null,
      "metadata": {
        "id": "GBJWDlvsqKNH",
        "outputId": "a013cc38-0693-4084-a37f-f52890ada6cb"
      },
      "outputs": [
        {
          "data": {
            "text/plain": [
              "'Sebastian'"
            ]
          },
          "execution_count": 7,
          "metadata": {},
          "output_type": "execute_result"
        }
      ],
      "source": [
        "\"sebastian\".capitalize()"
      ]
    },
    {
      "cell_type": "code",
      "execution_count": null,
      "metadata": {
        "id": "9ReU3CxJqKNH",
        "outputId": "35327452-d7d7-461e-f661-456fa14553c6"
      },
      "outputs": [
        {
          "data": {
            "text/plain": [
              "2"
            ]
          },
          "execution_count": 8,
          "metadata": {},
          "output_type": "execute_result"
        }
      ],
      "source": [
        "\"otorrinolaringologo\".count(\"go\")"
      ]
    },
    {
      "cell_type": "code",
      "execution_count": null,
      "metadata": {
        "id": "QwSwwQb-qKNH",
        "outputId": "9fc337ca-fa3e-41e5-92b5-0f38028f0786"
      },
      "outputs": [
        {
          "data": {
            "text/plain": [
              "False"
            ]
          },
          "execution_count": 9,
          "metadata": {},
          "output_type": "execute_result"
        }
      ],
      "source": [
        "\"quiero saber si empiezo con [cualquier string]\".startswith(\"hola\")"
      ]
    },
    {
      "cell_type": "code",
      "execution_count": null,
      "metadata": {
        "id": "X4ogw1ChqKNH",
        "outputId": "6a58e01c-d7a9-4087-9bcf-20af2c367eaf"
      },
      "outputs": [
        {
          "data": {
            "text/plain": [
              "True"
            ]
          },
          "execution_count": 10,
          "metadata": {},
          "output_type": "execute_result"
        }
      ],
      "source": [
        "\"Dr. Julanito\".startswith(\"Dr.\")"
      ]
    },
    {
      "cell_type": "code",
      "execution_count": null,
      "metadata": {
        "id": "AjiupO0iqKNH",
        "outputId": "11287266-9f28-4aa9-cd1d-9d8baae5a89d"
      },
      "outputs": [
        {
          "data": {
            "text/plain": [
              "True"
            ]
          },
          "execution_count": 11,
          "metadata": {},
          "output_type": "execute_result"
        }
      ],
      "source": [
        "\"students paying attention: 20%\".endswith(\"%\")"
      ]
    },
    {
      "cell_type": "code",
      "execution_count": null,
      "metadata": {
        "id": "8fskGUhcqKNI",
        "outputId": "c6d468ce-8a1c-46b5-ad9e-e82b6316c745"
      },
      "outputs": [
        {
          "data": {
            "text/plain": [
              "True"
            ]
          },
          "execution_count": 12,
          "metadata": {},
          "output_type": "execute_result"
        }
      ],
      "source": [
        "\"str\".isidentifier()"
      ]
    },
    {
      "cell_type": "code",
      "execution_count": null,
      "metadata": {
        "id": "RcK2GyHoqKNI",
        "outputId": "6ac83d05-eb01-466a-e1c2-34f61bd60452"
      },
      "outputs": [
        {
          "data": {
            "text/plain": [
              "True"
            ]
          },
          "execution_count": 13,
          "metadata": {},
          "output_type": "execute_result"
        }
      ],
      "source": [
        "\"333\".isdecimal()"
      ]
    },
    {
      "cell_type": "code",
      "execution_count": null,
      "metadata": {
        "id": "53uKHevKqKNI",
        "outputId": "76485ff4-7a70-411f-b36d-e719a473e3bf"
      },
      "outputs": [
        {
          "data": {
            "text/plain": [
              "['Nombre', 'Apellido1', 'Appellido2']"
            ]
          },
          "execution_count": 14,
          "metadata": {},
          "output_type": "execute_result"
        }
      ],
      "source": [
        "\"Nombre Apellido1 Appellido2\".split(\" \")"
      ]
    },
    {
      "cell_type": "markdown",
      "metadata": {
        "id": "rpn-7dKfqKNI"
      },
      "source": [
        "los `str` también pueden ser indexados:"
      ]
    },
    {
      "cell_type": "code",
      "execution_count": null,
      "metadata": {
        "id": "PQoa2Dp_qKNI",
        "outputId": "b42ecbd5-5efd-4b87-8de5-16c86d21c44b"
      },
      "outputs": [
        {
          "data": {
            "text/plain": [
              "'has '"
            ]
          },
          "execution_count": 15,
          "metadata": {},
          "output_type": "execute_result"
        }
      ],
      "source": [
        "\"Muchas palabras \"[3:7]"
      ]
    },
    {
      "cell_type": "code",
      "execution_count": null,
      "metadata": {
        "id": "x3s12dqSqKNI",
        "outputId": "5b55ee44-ef1c-4a83-e0e7-89a649cca100"
      },
      "outputs": [
        {
          "data": {
            "text/plain": [
              "'Muchas '"
            ]
          },
          "execution_count": 16,
          "metadata": {},
          "output_type": "execute_result"
        }
      ],
      "source": [
        "\"Muchas palabras \"[:7]"
      ]
    },
    {
      "cell_type": "code",
      "execution_count": null,
      "metadata": {
        "id": "4BwgDbHeqKNI",
        "outputId": "289d2d13-6043-4f30-c90c-d59258eebba0"
      },
      "outputs": [
        {
          "data": {
            "text/plain": [
              "'Muchas pa'"
            ]
          },
          "execution_count": 17,
          "metadata": {},
          "output_type": "execute_result"
        }
      ],
      "source": [
        "\"Muchas palabras \"[:-7]"
      ]
    },
    {
      "cell_type": "code",
      "execution_count": null,
      "metadata": {
        "id": "KRoQrbX0qKNJ",
        "outputId": "131bc75a-973f-4026-ff6d-1f3debe5b4ae"
      },
      "outputs": [
        {
          "data": {
            "text/plain": [
              "' sarbalap sahcuM'"
            ]
          },
          "execution_count": 18,
          "metadata": {},
          "output_type": "execute_result"
        }
      ],
      "source": [
        "\"Muchas palabras \"[::-1]"
      ]
    },
    {
      "cell_type": "markdown",
      "metadata": {
        "id": "Z3cjkIGhqKNJ"
      },
      "source": [
        "[Revisa la documentación oficial para ver más](https://docs.python.org/3/library/stdtypes.html#string-methods)\n",
        "\n",
        "---\n",
        "`None` -> se usa para decir que no hay ningún valor asignado"
      ]
    },
    {
      "cell_type": "code",
      "execution_count": null,
      "metadata": {
        "id": "vHzGs0ZPqKNJ"
      },
      "outputs": [],
      "source": [
        "best_student = None\n",
        "worst_student = None"
      ]
    },
    {
      "cell_type": "markdown",
      "metadata": {
        "id": "l_ZadTLjqKNJ"
      },
      "source": [
        "**Observaciones adicionales:**\n",
        "\n",
        "En este punto ya usamos el concepto de variable, simplemente es una manera de referenciar los valores con los que se ejecuta un programa. La variable es un espacio en la memoria del computador (usualmente RAM), diferente del disco duro. Entre más variables uses, y más valores contengan esas, más RAM usas.\n",
        "\n",
        "Las variables pueden escribirse con cualquier fomato (`comoEste` y `EsteOtro`), pero usualmente la comunidad de Python las escribe `en_el_formato_que_he_mostrado` y es bastante agradable seguir las convenciones cuando se habla de trabajo colaborativo; vale la pena mencionar, `esto` y `EstO` representan variables diferentes. Además, es importante saber que existe un estándar general de *estilo* para programar en python. En este se enmarca el nombramiento de variables, funciones, forma de identar, etc. Este estándar se llama [PEP8](https://www.python.org/dev/peps/pep-0008/).\n",
        "\n",
        "Finalmente, con respecto a las variables, nunca podrás usar una [palabra reservada de Pyhton](https://www.programiz.com/python-programming/keyword-list), pero también se recomienda no usar nombres propios de tipos de datos the pyhton.\n",
        "\n",
        "## Operadores\n",
        "\n",
        "Nos permiten ejecutar distintas operaciones en pares de valores, el comportamiento de los operadores depende de los valores con los que se estén llamando. Acá veremos unos ejemplos, pero te recomiendo ver [una lista más completa](https://www.w3schools.com/python/python_operators.asp)"
      ]
    },
    {
      "cell_type": "code",
      "execution_count": null,
      "metadata": {
        "id": "pjnrxfVOqKNJ",
        "outputId": "c0ded5ff-6e06-4602-cddd-47c15a12afca"
      },
      "outputs": [
        {
          "data": {
            "text/plain": [
              "8"
            ]
          },
          "execution_count": 20,
          "metadata": {},
          "output_type": "execute_result"
        }
      ],
      "source": [
        "3 + 5"
      ]
    },
    {
      "cell_type": "code",
      "execution_count": null,
      "metadata": {
        "id": "10wcanpiqKNJ",
        "outputId": "4e1f31f2-be6c-4863-cbaf-68d358a9ed0a"
      },
      "outputs": [
        {
          "data": {
            "text/plain": [
              "12"
            ]
          },
          "execution_count": 21,
          "metadata": {},
          "output_type": "execute_result"
        }
      ],
      "source": [
        "4 * 3"
      ]
    },
    {
      "cell_type": "code",
      "execution_count": null,
      "metadata": {
        "id": "6pH19TrSqKNJ",
        "outputId": "3381b9e4-7e36-4b08-95d8-bd3765e8ca12"
      },
      "outputs": [
        {
          "data": {
            "text/plain": [
              "2.0"
            ]
          },
          "execution_count": 22,
          "metadata": {},
          "output_type": "execute_result"
        }
      ],
      "source": [
        "6 / 3"
      ]
    },
    {
      "cell_type": "code",
      "execution_count": null,
      "metadata": {
        "id": "dUsMDcnCqKNJ",
        "outputId": "370a5e8b-7be2-43c4-cf04-5d20b21dfafa"
      },
      "outputs": [
        {
          "data": {
            "text/plain": [
              "3.5"
            ]
          },
          "execution_count": 23,
          "metadata": {},
          "output_type": "execute_result"
        }
      ],
      "source": [
        "7 / 2"
      ]
    },
    {
      "cell_type": "code",
      "execution_count": null,
      "metadata": {
        "id": "lTBpWZo1qKNK",
        "outputId": "3d02576d-5c92-424a-bc35-bf9aaa951f3f"
      },
      "outputs": [
        {
          "data": {
            "text/plain": [
              "3"
            ]
          },
          "execution_count": 24,
          "metadata": {},
          "output_type": "execute_result"
        }
      ],
      "source": [
        "7 // 2"
      ]
    },
    {
      "cell_type": "code",
      "execution_count": null,
      "metadata": {
        "id": "lrAV2kzbqKNK",
        "outputId": "ca845f20-ffb7-4fe5-faa0-d4e72f3f00b8"
      },
      "outputs": [
        {
          "data": {
            "text/plain": [
              "1"
            ]
          },
          "execution_count": 25,
          "metadata": {},
          "output_type": "execute_result"
        }
      ],
      "source": [
        "7 % 2"
      ]
    },
    {
      "cell_type": "code",
      "execution_count": null,
      "metadata": {
        "id": "UjL6tWTNqKNK",
        "outputId": "02694188-bf0e-47c5-9627-22054f007ce8"
      },
      "outputs": [
        {
          "data": {
            "text/plain": [
              "32"
            ]
          },
          "execution_count": 26,
          "metadata": {},
          "output_type": "execute_result"
        }
      ],
      "source": [
        "2**5"
      ]
    },
    {
      "cell_type": "code",
      "execution_count": null,
      "metadata": {
        "id": "CK4vynx9qKNK",
        "outputId": "70dda32b-e22c-4dd1-f06f-1ec75581c492"
      },
      "outputs": [
        {
          "data": {
            "text/plain": [
              "(True, True, False, False, True)"
            ]
          },
          "execution_count": 27,
          "metadata": {},
          "output_type": "execute_result"
        }
      ],
      "source": [
        "edad = 18\n",
        "edad == 18, edad < 20, edad > 30, edad <= 12, edad >= 18"
      ]
    },
    {
      "cell_type": "code",
      "execution_count": null,
      "metadata": {
        "id": "dSFvFFT_qKNK",
        "outputId": "468fed28-76d9-471f-e8bb-27a7a9dcb0c3"
      },
      "outputs": [
        {
          "data": {
            "text/plain": [
              "(True, False)"
            ]
          },
          "execution_count": 28,
          "metadata": {},
          "output_type": "execute_result"
        }
      ],
      "source": [
        "True and True, True and False"
      ]
    },
    {
      "cell_type": "code",
      "execution_count": null,
      "metadata": {
        "id": "EcAYGzr2qKNO",
        "outputId": "b614f757-dba0-419c-8bb2-0d084b796029"
      },
      "outputs": [
        {
          "data": {
            "text/plain": [
              "(True, True)"
            ]
          },
          "execution_count": 29,
          "metadata": {},
          "output_type": "execute_result"
        }
      ],
      "source": [
        "True or True, True or False"
      ]
    },
    {
      "cell_type": "code",
      "execution_count": null,
      "metadata": {
        "id": "J5JHnl2BqKNO",
        "outputId": "d951dcbf-17d2-4f2e-eb8e-f8a51dcca8fa"
      },
      "outputs": [
        {
          "data": {
            "text/plain": [
              "False"
            ]
          },
          "execution_count": 30,
          "metadata": {},
          "output_type": "execute_result"
        }
      ],
      "source": [
        "not True"
      ]
    },
    {
      "cell_type": "code",
      "execution_count": null,
      "metadata": {
        "id": "El4x95gOqKNO",
        "outputId": "0d45bec7-512e-4f3e-884b-1b094a25a39c"
      },
      "outputs": [
        {
          "data": {
            "text/plain": [
              "True"
            ]
          },
          "execution_count": 31,
          "metadata": {},
          "output_type": "execute_result"
        }
      ],
      "source": [
        "not False"
      ]
    },
    {
      "cell_type": "code",
      "execution_count": null,
      "metadata": {
        "id": "sjaZVNa_qKNO",
        "outputId": "27bc45f6-ed21-441f-ca05-93903a91dceb"
      },
      "outputs": [
        {
          "data": {
            "text/plain": [
              "'Se puede con cadenas de caracteres, Se puede con cadenas de caracteres, Se puede con cadenas de caracteres, '"
            ]
          },
          "execution_count": 32,
          "metadata": {},
          "output_type": "execute_result"
        }
      ],
      "source": [
        "\"Se puede con cadenas de caracteres, \"* 3"
      ]
    },
    {
      "cell_type": "code",
      "execution_count": null,
      "metadata": {
        "id": "oGH2J4DHqKNO",
        "outputId": "9c43cdcd-264b-445c-9301-da33d9a255fd"
      },
      "outputs": [
        {
          "data": {
            "text/plain": [
              "[45, 45, 45, 45, 45, 45, 45]"
            ]
          },
          "execution_count": 33,
          "metadata": {},
          "output_type": "execute_result"
        }
      ],
      "source": [
        "[45] * 7"
      ]
    },
    {
      "cell_type": "markdown",
      "metadata": {
        "id": "NlKCPyOnqKNO"
      },
      "source": [
        "## Imprimiendo valores y formateando cadenas de texto\n",
        "\n",
        "Antes de seguir adelante, vamos a revisar cómo imprimir valores en el entorno de ejecución que estemos usando (por ahora, jupyter notebook) y cómo darle formato a lo que imprimimos.\n",
        "\n",
        "Para imprimir, podemos usar la *función* `print`:"
      ]
    },
    {
      "cell_type": "code",
      "execution_count": null,
      "metadata": {
        "id": "NIzs8vK4qKNP",
        "outputId": "60f7c7ff-f940-4709-c911-37339f5cdb6b"
      },
      "outputs": [
        {
          "name": "stdout",
          "output_type": "stream",
          "text": [
            "esto es una cadena de caracteres\n",
            "esto también es una cadena de caracteres\n",
            "notar cómo implementar \"comillas\" dobles como caracteres\n",
            "notar cómo implementar 'comillas' simples como caracteres\n"
          ]
        }
      ],
      "source": [
        "print(\"esto es una cadena de caracteres\")\n",
        "print('esto también es una cadena de caracteres')\n",
        "print('notar cómo implementar \"comillas\" dobles como caracteres')\n",
        "print(\"notar cómo implementar 'comillas' simples como caracteres\")"
      ]
    },
    {
      "cell_type": "code",
      "execution_count": null,
      "metadata": {
        "id": "ZWQqcgGzqKNP",
        "outputId": "84231e99-457d-4727-8d00-69138ee1d568"
      },
      "outputs": [
        {
          "name": "stdout",
          "output_type": "stream",
          "text": [
            "['también', 'puedo', 'imprimir', 'listas']\n"
          ]
        }
      ],
      "source": [
        "print([\"también\", \"puedo\", \"imprimir\", \"listas\"])"
      ]
    },
    {
      "cell_type": "code",
      "execution_count": null,
      "metadata": {
        "id": "QpJBmaHRqKNP",
        "outputId": "b39b61a6-ec9e-469e-8371-32f6ddb58aea"
      },
      "outputs": [
        {
          "name": "stdout",
          "output_type": "stream",
          "text": [
            "40\n"
          ]
        }
      ],
      "source": [
        "y_numeros = 40\n",
        "print(y_numeros)"
      ]
    },
    {
      "cell_type": "markdown",
      "metadata": {
        "id": "_flro8PjqKNP"
      },
      "source": [
        "Realmente se puede imprimir cualquier objeto, aunque no todos tienen una representación bonita.\n",
        "\n",
        "Hasta ahora podrías pensar que no hay diferencia entre usar o no usar `print`, dado que los ejemplos anteriores se imprimían sin necesidad de usarlo; sin embargo, esto se debe a que `jupyter notebook` internamente se encarga de imprimir lo último que pones en una celda, esto no funcionaría ejecutando código de python en otro entorno y no funciona si lo que quieres imprimir no está al final de la celda."
      ]
    },
    {
      "cell_type": "code",
      "execution_count": null,
      "metadata": {
        "id": "Z0pFnVdDqKNP",
        "outputId": "4c749319-af42-4e40-b1df-4f6230cc691c"
      },
      "outputs": [
        {
          "data": {
            "text/plain": [
              "40"
            ]
          },
          "execution_count": 37,
          "metadata": {},
          "output_type": "execute_result"
        }
      ],
      "source": [
        "edad = 40\n",
        "edad"
      ]
    },
    {
      "cell_type": "code",
      "execution_count": null,
      "metadata": {
        "id": "1-4o6zfkqKNP"
      },
      "outputs": [],
      "source": [
        "edad\n",
        "edad = 30"
      ]
    },
    {
      "cell_type": "code",
      "execution_count": null,
      "metadata": {
        "id": "LEhGyeGMqKNP",
        "outputId": "42bdb9eb-39a3-40e9-feff-9196c2a4883f"
      },
      "outputs": [
        {
          "name": "stdout",
          "output_type": "stream",
          "text": [
            "30\n"
          ]
        }
      ],
      "source": [
        "print(edad)\n",
        "edad = 20"
      ]
    },
    {
      "cell_type": "code",
      "execution_count": null,
      "metadata": {
        "id": "tqye_I0rqKNP",
        "outputId": "4a5f41b2-7352-4028-92a5-bc096b084179"
      },
      "outputs": [
        {
          "data": {
            "text/plain": [
              "20"
            ]
          },
          "execution_count": 40,
          "metadata": {},
          "output_type": "execute_result"
        }
      ],
      "source": [
        "edad"
      ]
    },
    {
      "cell_type": "markdown",
      "metadata": {
        "id": "486HGKzEqKNQ"
      },
      "source": [
        "Ahora veamos como dar un poco de formato al texto que imprimimos, solo veremos la sintaxis, pero te recomiendo [leer más del tema](https://pyformat.info/)"
      ]
    },
    {
      "cell_type": "code",
      "execution_count": null,
      "metadata": {
        "id": "PPgHG1eRqKNQ",
        "outputId": "8b63bc72-5920-4e63-b9d7-e6f9be34aa39"
      },
      "outputs": [
        {
          "data": {
            "text/plain": [
              "'Edad promedio de los estudiantes: {}'"
            ]
          },
          "execution_count": 41,
          "metadata": {},
          "output_type": "execute_result"
        }
      ],
      "source": [
        "texto = \"Edad promedio de los estudiantes: {}\"\n",
        "texto"
      ]
    },
    {
      "cell_type": "code",
      "execution_count": null,
      "metadata": {
        "id": "YagAzqUJqKNQ",
        "outputId": "11c93fec-9409-4e42-9f1b-8e6914d68b7f"
      },
      "outputs": [
        {
          "data": {
            "text/plain": [
              "'Edad promedio de los estudiantes: 24'"
            ]
          },
          "execution_count": 42,
          "metadata": {},
          "output_type": "execute_result"
        }
      ],
      "source": [
        "texto.format(24)"
      ]
    },
    {
      "cell_type": "code",
      "execution_count": null,
      "metadata": {
        "id": "hNgbIvJaqKNQ",
        "outputId": "dabae09e-9b25-4a6b-b832-16ec2520c533"
      },
      "outputs": [
        {
          "data": {
            "text/plain": [
              "\"Edad promedio con una 'f' al principio: 24\""
            ]
          },
          "execution_count": 43,
          "metadata": {},
          "output_type": "execute_result"
        }
      ],
      "source": [
        "edad = 24\n",
        "f\"Edad promedio con una 'f' al principio: {edad}\""
      ]
    },
    {
      "cell_type": "code",
      "execution_count": null,
      "metadata": {
        "id": "fFbhUllCqKNQ",
        "outputId": "36baa628-c825-44b5-c40a-83af547bade1"
      },
      "outputs": [
        {
          "data": {
            "text/plain": [
              "'{variable_name} promedio con campos nombrados: {edad}'"
            ]
          },
          "execution_count": 44,
          "metadata": {},
          "output_type": "execute_result"
        }
      ],
      "source": [
        "texto = \"{variable_name} promedio con campos nombrados: {edad}\"\n",
        "texto"
      ]
    },
    {
      "cell_type": "code",
      "execution_count": null,
      "metadata": {
        "id": "-WutlhPCqKNR",
        "outputId": "a9e3e57f-4294-421c-ffd7-59ab5cc5e801"
      },
      "outputs": [
        {
          "data": {
            "text/plain": [
              "'Edad promedio con campos nombrados: 56'"
            ]
          },
          "execution_count": 45,
          "metadata": {},
          "output_type": "execute_result"
        }
      ],
      "source": [
        "texto.format(variable_name=\"Edad\", edad=56)"
      ]
    }
  ],
  "metadata": {
    "kernelspec": {
      "display_name": "base",
      "language": "python",
      "name": "python3"
    },
    "language_info": {
      "codemirror_mode": {
        "name": "ipython",
        "version": 3
      },
      "file_extension": ".py",
      "mimetype": "text/x-python",
      "name": "python",
      "nbconvert_exporter": "python",
      "pygments_lexer": "ipython3",
      "version": "3.9.12 (main, Apr  5 2022, 06:56:58) \n[GCC 7.5.0]"
    },
    "vscode": {
      "interpreter": {
        "hash": "4a86262a84c89eb5e2f9fa7ccca1fd520c0f88913a624a47ee78e08ae14b068c"
      }
    },
    "colab": {
      "provenance": []
    }
  },
  "nbformat": 4,
  "nbformat_minor": 0
}