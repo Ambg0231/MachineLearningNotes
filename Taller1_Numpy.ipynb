{
  "cells": [
    {
      "cell_type": "markdown",
      "metadata": {
        "id": "view-in-github",
        "colab_type": "text"
      },
      "source": [
        "<a href=\"https://colab.research.google.com/github/Ambg0231/MachineLearningNotes/blob/main/Taller1_Numpy.ipynb\" target=\"_parent\"><img src=\"https://colab.research.google.com/assets/colab-badge.svg\" alt=\"Open In Colab\"/></a>"
      ]
    },
    {
      "cell_type": "markdown",
      "metadata": {
        "id": "GMqKkXSBtsFt"
      },
      "source": [
        "#**Nombres**\n",
        "\n",
        "* *Angela María Burgos*\n",
        "* *Sandra Beatriz Escobar*\n",
        "\n"
      ]
    },
    {
      "cell_type": "markdown",
      "metadata": {
        "id": "cb7Kp5YdtsFw"
      },
      "source": [
        "# **Taller Numpy**\n",
        "\n"
      ]
    },
    {
      "cell_type": "markdown",
      "metadata": {
        "id": "5E6wNLUStsFx"
      },
      "source": [
        "1) Importar la libreria numpy y ver la versión que se está usando"
      ]
    },
    {
      "cell_type": "code",
      "execution_count": null,
      "metadata": {
        "id": "leQSY8U7tsFx",
        "colab": {
          "base_uri": "https://localhost:8080/"
        },
        "outputId": "a8fef0b4-431a-4c6e-d586-b3e517bcab5d"
      },
      "outputs": [
        {
          "output_type": "stream",
          "name": "stdout",
          "text": [
            "1.25.2\n"
          ]
        }
      ],
      "source": [
        "import numpy as np\n",
        "\n",
        "# Ver la versión de NumPy\n",
        "print(np.__version__)"
      ]
    },
    {
      "cell_type": "markdown",
      "metadata": {
        "id": "LjlTI0sHtsFy"
      },
      "source": [
        "2) Crear un arreglo de tamaño 1D desde 10 hasta 30"
      ]
    },
    {
      "cell_type": "code",
      "execution_count": null,
      "metadata": {
        "id": "UxLsD10PtsFy",
        "colab": {
          "base_uri": "https://localhost:8080/"
        },
        "outputId": "2c8da414-8f40-4e28-d998-05ffa644bebb"
      },
      "outputs": [
        {
          "output_type": "stream",
          "name": "stdout",
          "text": [
            "[10 11 12 13 14 15 16 17 18 19 20 21 22 23 24 25 26 27 28 29 30]\n"
          ]
        }
      ],
      "source": [
        "a1_np = np.arange(10, 31)\n",
        "print(a1_np)"
      ]
    },
    {
      "cell_type": "markdown",
      "metadata": {
        "id": "EIn9EAPItsFy"
      },
      "source": [
        "3) Crear un arreglo booleano con valor True de tamaño 4x4"
      ]
    },
    {
      "cell_type": "code",
      "execution_count": null,
      "metadata": {
        "id": "M6SXejBptsFz",
        "colab": {
          "base_uri": "https://localhost:8080/"
        },
        "outputId": "4e85131b-fe0e-4155-cdc7-33cb0338cf7b"
      },
      "outputs": [
        {
          "output_type": "stream",
          "name": "stdout",
          "text": [
            "[[ True  True  True  True]\n",
            " [ True  True  True  True]\n",
            " [ True  True  True  True]\n",
            " [ True  True  True  True]]\n"
          ]
        }
      ],
      "source": [
        "bool_ar = np.ones((4, 4), dtype=bool)\n",
        "print(bool_ar)"
      ]
    },
    {
      "cell_type": "markdown",
      "metadata": {
        "id": "ahYg0vtDtsFz"
      },
      "source": [
        "4) Generar un arreglo desde el 10 hasta el 30, extraer los elementos pares del arreglo generado."
      ]
    },
    {
      "cell_type": "code",
      "execution_count": null,
      "metadata": {
        "id": "aMpP8v1_tsF0",
        "colab": {
          "base_uri": "https://localhost:8080/"
        },
        "outputId": "b520f761-64f7-4294-bf97-ef96900fd0e8"
      },
      "outputs": [
        {
          "output_type": "stream",
          "name": "stdout",
          "text": [
            "[10 12 14 16 18 20 22 24 26 28 30]\n"
          ]
        }
      ],
      "source": [
        "a2_np = np.arange(10, 31)\n",
        "ar2_np_pares = a2_np[a2_np % 2 == 0]\n",
        "print(ar2_np_pares)"
      ]
    },
    {
      "cell_type": "markdown",
      "metadata": {
        "id": "Ai35ybIXtsF0"
      },
      "source": [
        "5) Reemplazar todos los números pares por -1 de una arreglo desde 10 hasta 30 sin que afecte los demás elementos del arreglo utilizando bucles y condicionales."
      ]
    },
    {
      "cell_type": "code",
      "execution_count": null,
      "metadata": {
        "id": "PqlIj7ZctsF0",
        "colab": {
          "base_uri": "https://localhost:8080/"
        },
        "outputId": "01512133-88af-4189-fe92-32086dd477d4"
      },
      "outputs": [
        {
          "output_type": "stream",
          "name": "stdout",
          "text": [
            "[-1 11 -1 13 -1 15 -1 17 -1 19 -1 21 -1 23 -1 25 -1 27 -1 29 -1]\n"
          ]
        }
      ],
      "source": [
        "a3_np = np.arange(10, 31)\n",
        "for i in range(len(a3_np)):\n",
        "    if a3_np[i] % 2 == 0:\n",
        "        a3_np[i] = -1\n",
        "print(a3_np)"
      ]
    },
    {
      "cell_type": "markdown",
      "metadata": {
        "id": "87Me0zE1tsF0"
      },
      "source": [
        "6) Reemplazar todos los números pares por -1 de una arreglo desde 10 hasta 30 sin que afecte los demás elementos del arreglo utilizando una función de numpy."
      ]
    },
    {
      "cell_type": "code",
      "execution_count": null,
      "metadata": {
        "id": "PjQhEbhktsF0",
        "colab": {
          "base_uri": "https://localhost:8080/"
        },
        "outputId": "5934bd6a-95d8-44f2-d87a-adf6aa8fe118"
      },
      "outputs": [
        {
          "output_type": "stream",
          "name": "stdout",
          "text": [
            "[-1 11 -1 13 -1 15 -1 17 -1 19 -1 21 -1 23 -1 25 -1 27 -1 29 -1]\n"
          ]
        }
      ],
      "source": [
        "a4_np = np.arange(10, 31)\n",
        "a4_np[a4_np % 2 == 0] = -1\n",
        "print(a4_np)"
      ]
    },
    {
      "cell_type": "markdown",
      "metadata": {
        "id": "RHeGeMkFtsF0"
      },
      "source": [
        "7) Reemplazar todos los números pares por -1 y por 0 los impares de una arreglo desde 10 hasta 30 sin que afecte los demás elementos del arreglo utilizando bucles y condicionales."
      ]
    },
    {
      "cell_type": "code",
      "execution_count": null,
      "metadata": {
        "id": "JHHua_d-tsF1",
        "colab": {
          "base_uri": "https://localhost:8080/"
        },
        "outputId": "16ed0ce0-a950-4568-8e59-f74cf5fb1ac0"
      },
      "outputs": [
        {
          "output_type": "stream",
          "name": "stdout",
          "text": [
            "Arreglo original: [10 11 12 13 14 15 16 17 18 19 20 21 22 23 24 25 26 27 28 29 30]\n",
            "Arreglo modificado: [-1  0 -1  0 -1  0 -1  0 -1  0 -1  0 -1  0 -1  0 -1  0 -1  0 -1]\n"
          ]
        }
      ],
      "source": [
        "a5_np = np.arange(10, 31)\n",
        "print(\"Arreglo original:\", a5_np)\n",
        "for i in range(len(a5_np)):\n",
        "    if a5_np[i] % 2 == 0:\n",
        "        if 10 <= a5_np[i] <= 30:\n",
        "            a5_np[i] = -1\n",
        "    else:\n",
        "        if 10 <= a5_np[i] <= 30:\n",
        "            a5_np[i] = 0\n",
        "print(\"Arreglo modificado:\", a5_np)"
      ]
    },
    {
      "cell_type": "markdown",
      "metadata": {
        "id": "k3n3tFiHtsF1"
      },
      "source": [
        "8) Reemplazar todos los números pares por -1 y los impares por 0 de una arreglo desde 10 hasta 30 sin que afecte los demás elementos del arreglo utilizando una función de numpy."
      ]
    },
    {
      "cell_type": "code",
      "source": [
        "a6_np = np.arange(10, 31)\n",
        "print(\"Arreglo original:\", a6_np)\n",
        "arr_modificado = np.where(\n",
        "    (a6_np >= 10) & (a6_np <= 30),\n",
        "    np.where(a6_np % 2 == 0, -1, 0),\n",
        "    a6_np)\n",
        "print(\"Arreglo modificado:\", arr_modificado)"
      ],
      "metadata": {
        "colab": {
          "base_uri": "https://localhost:8080/"
        },
        "id": "15NXL_TDwSS4",
        "outputId": "528b03f8-7b12-4660-932a-51718ebd0678"
      },
      "execution_count": null,
      "outputs": [
        {
          "output_type": "stream",
          "name": "stdout",
          "text": [
            "Arreglo original: [10 11 12 13 14 15 16 17 18 19 20 21 22 23 24 25 26 27 28 29 30]\n",
            "Arreglo modificado: [-1  0 -1  0 -1  0 -1  0 -1  0 -1  0 -1  0 -1  0 -1  0 -1  0 -1]\n"
          ]
        }
      ]
    }
  ],
  "metadata": {
    "kernelspec": {
      "display_name": "base",
      "language": "python",
      "name": "python3"
    },
    "language_info": {
      "codemirror_mode": {
        "name": "ipython",
        "version": 3
      },
      "file_extension": ".py",
      "mimetype": "text/x-python",
      "name": "python",
      "nbconvert_exporter": "python",
      "pygments_lexer": "ipython3",
      "version": "3.9.12 (main, Apr  5 2022, 06:56:58) \n[GCC 7.5.0]"
    },
    "metadata": {
      "interpreter": {
        "hash": "48b2dac2427e5c4bd2b5479f4e612135ec3351219f6a8504495dceeac711d204"
      }
    },
    "orig_nbformat": 2,
    "vscode": {
      "interpreter": {
        "hash": "4a86262a84c89eb5e2f9fa7ccca1fd520c0f88913a624a47ee78e08ae14b068c"
      }
    },
    "colab": {
      "provenance": [],
      "include_colab_link": true
    }
  },
  "nbformat": 4,
  "nbformat_minor": 0
}